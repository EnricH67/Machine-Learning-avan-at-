{
 "cells": [
  {
   "cell_type": "markdown",
   "metadata": {},
   "source": [
    "## Nivell 1\n",
    "\n",
    "### *Exercici 2*\n",
    "\n",
    "Agafa un text en anglès que vulguis, i calcula'n la freqüència de les paraules"
   ]
  },
  {
   "cell_type": "code",
   "execution_count": 13,
   "metadata": {},
   "outputs": [
    {
     "name": "stderr",
     "output_type": "stream",
     "text": [
      "[nltk_data] Downloading package punkt to\n",
      "[nltk_data]     C:\\Users\\Enric\\AppData\\Roaming\\nltk_data...\n",
      "[nltk_data]   Package punkt is already up-to-date!\n",
      "[nltk_data] Downloading package stopwords to\n",
      "[nltk_data]     C:\\Users\\Enric\\AppData\\Roaming\\nltk_data...\n",
      "[nltk_data]   Package stopwords is already up-to-date!\n",
      "[nltk_data] Downloading package wordnet to\n",
      "[nltk_data]     C:\\Users\\Enric\\AppData\\Roaming\\nltk_data...\n",
      "[nltk_data]   Package wordnet is already up-to-date!\n"
     ]
    }
   ],
   "source": [
    "import nltk\n",
    "from nltk.tokenize import sent_tokenize\n",
    "from nltk.tokenize import word_tokenize\n",
    "from nltk.corpus import stopwords\n",
    "from nltk.probability import FreqDist\n",
    "nltk.download('punkt')\n",
    "nltk.download('stopwords')\n",
    "nltk.download('wordnet')\n",
    "\n",
    "from nltk.stem.wordnet import WordNetLemmatizer\n",
    "from nltk.stem.porter import PorterStemmer\n",
    "\n",
    "import pandas as pd\n"
   ]
  },
  {
   "cell_type": "code",
   "execution_count": 21,
   "metadata": {},
   "outputs": [],
   "source": [
    "#Tret d'un review d'un hotel a la web de Booking\n",
    "text = \"\"\"Staff was somehow very unfriendly and every time we came home the staff guy came out of his room and \n",
    "sat at the reception, watching us and checking what exactly we were doing; as we were using the bathroom, \n",
    "dressed in pijamas, it felt somehow very uncomfortable to be watched by some guy (we are 2 females)\"\"\""
   ]
  },
  {
   "cell_type": "code",
   "execution_count": 22,
   "metadata": {},
   "outputs": [
    {
     "name": "stdout",
     "output_type": "stream",
     "text": [
      "['Staff was somehow very unfriendly and every time we came home the staff guy came out of his room and \\nsat at the reception, watching us and checking what exactly we were doing; as we were using the bathroom, \\ndressed in pijamas, it felt somehow very uncomfortable to be watched by some guy (we are 2 females)']\n"
     ]
    }
   ],
   "source": [
    "tokenized_text=sent_tokenize(text)\n",
    "print(tokenized_text)"
   ]
  },
  {
   "cell_type": "code",
   "execution_count": 23,
   "metadata": {},
   "outputs": [
    {
     "name": "stdout",
     "output_type": "stream",
     "text": [
      "['Staff', 'was', 'somehow', 'very', 'unfriendly', 'and', 'every', 'time', 'we', 'came', 'home', 'the', 'staff', 'guy', 'came', 'out', 'of', 'his', 'room', 'and', 'sat', 'at', 'the', 'reception', ',', 'watching', 'us', 'and', 'checking', 'what', 'exactly', 'we', 'were', 'doing', ';', 'as', 'we', 'were', 'using', 'the', 'bathroom', ',', 'dressed', 'in', 'pijamas', ',', 'it', 'felt', 'somehow', 'very', 'uncomfortable', 'to', 'be', 'watched', 'by', 'some', 'guy', '(', 'we', 'are', '2', 'females', ')']\n"
     ]
    }
   ],
   "source": [
    "tokenized_word = word_tokenize(text)\n",
    "print(tokenized_word)"
   ]
  },
  {
   "cell_type": "code",
   "execution_count": 24,
   "metadata": {},
   "outputs": [
    {
     "name": "stdout",
     "output_type": "stream",
     "text": [
      "<FreqDist with 49 samples and 63 outcomes>\n"
     ]
    }
   ],
   "source": [
    "fdist = FreqDist(tokenized_word)\n",
    "print(fdist)"
   ]
  },
  {
   "cell_type": "code",
   "execution_count": 25,
   "metadata": {},
   "outputs": [
    {
     "data": {
      "text/plain": [
       "[('we', 4), ('and', 3), ('the', 3), (',', 3), ('somehow', 2)]"
      ]
     },
     "execution_count": 25,
     "metadata": {},
     "output_type": "execute_result"
    }
   ],
   "source": [
    "fdist.most_common(5)"
   ]
  },
  {
   "cell_type": "code",
   "execution_count": 26,
   "metadata": {},
   "outputs": [
    {
     "data": {
      "image/png": "[encoded data removed]",
      "text/plain": [
       "<Figure size 432x288 with 1 Axes>"
      ]
     },
     "metadata": {
      "needs_background": "light"
     },
     "output_type": "display_data"
    }
   ],
   "source": [
    "# Frequency Distribution Plot\n",
    "import matplotlib.pyplot as plt\n",
    "fdist.plot(30,cumulative=False)\n",
    "plt.show()"
   ]
  },
  {
   "cell_type": "markdown",
   "metadata": {},
   "source": [
    "## Nivell 2\n",
    "\n",
    "#### *Exercici 1*\n",
    "Treu les stopwords i realitza stemming al teu conjunt de dades."
   ]
  },
  {
   "cell_type": "code",
   "execution_count": 27,
   "metadata": {},
   "outputs": [
    {
     "name": "stdout",
     "output_type": "stream",
     "text": [
      "Tokenized word: ['Staff', 'was', 'somehow', 'very', 'unfriendly', 'and', 'every', 'time', 'we', 'came', 'home', 'the', 'staff', 'guy', 'came', 'out', 'of', 'his', 'room', 'and', 'sat', 'at', 'the', 'reception', ',', 'watching', 'us', 'and', 'checking', 'what', 'exactly', 'we', 'were', 'doing', ';', 'as', 'we', 'were', 'using', 'the', 'bathroom', ',', 'dressed', 'in', 'pijamas', ',', 'it', 'felt', 'somehow', 'very', 'uncomfortable', 'to', 'be', 'watched', 'by', 'some', 'guy', '(', 'we', 'are', '2', 'females', ')']\n",
      "Filterd word: ['Staff', 'somehow', 'unfriendly', 'every', 'time', 'came', 'home', 'staff', 'guy', 'came', 'room', 'sat', 'reception', ',', 'watching', 'us', 'checking', 'exactly', ';', 'using', 'bathroom', ',', 'dressed', 'pijamas', ',', 'felt', 'somehow', 'uncomfortable', 'watched', 'guy', '(', '2', 'females', ')']\n"
     ]
    }
   ],
   "source": [
    "filtered_word=[]\n",
    "for w in tokenized_word:\n",
    "    if w not in stop_words:\n",
    "        filtered_word.append(w)\n",
    "print(\"Tokenized word:\",tokenized_word)\n",
    "print(\"Filterd word:\",filtered_word)"
   ]
  },
  {
   "cell_type": "code",
   "execution_count": 28,
   "metadata": {},
   "outputs": [
    {
     "name": "stdout",
     "output_type": "stream",
     "text": [
      "Filtered Sentence: ['Staff', 'somehow', 'unfriendly', 'every', 'time', 'came', 'home', 'staff', 'guy', 'came', 'room', 'sat', 'reception', ',', 'watching', 'us', 'checking', 'exactly', ';', 'using', 'bathroom', ',', 'dressed', 'pijamas', ',', 'felt', 'somehow', 'uncomfortable', 'watched', 'guy', '(', '2', 'females', ')']\n",
      "Stemmed Sentence: ['staff', 'somehow', 'unfriendli', 'everi', 'time', 'came', 'home', 'staff', 'guy', 'came', 'room', 'sat', 'recept', ',', 'watch', 'us', 'check', 'exactli', ';', 'use', 'bathroom', ',', 'dress', 'pijama', ',', 'felt', 'somehow', 'uncomfort', 'watch', 'guy', '(', '2', 'femal', ')']\n"
     ]
    }
   ],
   "source": [
    "from nltk.stem import PorterStemmer\n",
    "ps = PorterStemmer()\n",
    "\n",
    "stemmed_words=[]\n",
    "for w in filtered_word:\n",
    "    stemmed_words.append(ps.stem(w))\n",
    "\n",
    "print(\"Filtered Sentence:\",filtered_word)\n",
    "print(\"Stemmed Sentence:\",stemmed_words)"
   ]
  },
  {
   "cell_type": "markdown",
   "metadata": {},
   "source": [
    "## Nivell 3\n",
    "\n",
    "### *Exercici 1*\n",
    "\n",
    "Realitza sentiment analysis al teu conjunt de dades."
   ]
  },
  {
   "cell_type": "markdown",
   "metadata": {},
   "source": [
    "+ __*SELECCIONO UN COMENTARI D'USUARI D'UN HOTEL AL WEB DE BOOKING__*"
   ]
  },
  {
   "cell_type": "code",
   "execution_count": 32,
   "metadata": {},
   "outputs": [],
   "source": [
    "text2 = \"\"\"The location was outstanding - overlooking Piccadilly and close to shops and transport.\n",
    "It doesn't get better! The room was spacious for central London and very comfortable.\"\"\""
   ]
  },
  {
   "cell_type": "code",
   "execution_count": 33,
   "metadata": {},
   "outputs": [],
   "source": [
    "from textblob import TextBlob"
   ]
  },
  {
   "cell_type": "code",
   "execution_count": 35,
   "metadata": {},
   "outputs": [
    {
     "data": {
      "text/plain": [
       "Sentiment(polarity=0.41125, subjectivity=0.65625)"
      ]
     },
     "execution_count": 35,
     "metadata": {},
     "output_type": "execute_result"
    }
   ],
   "source": [
    "blob = TextBlob(text2)\n",
    "blob.sentiment"
   ]
  },
  {
   "cell_type": "markdown",
   "metadata": {},
   "source": [
    "+ *La propietat  \"sentiment\" retorna una tuple amb 2 valors :\n",
    "\n",
    "   + a) *polarity té un rang de -1 a 1 (-1 = molt negatiu, 0 = neutral, 1 = molt positiu)*\n",
    "   \n",
    "   + b) *subjectivity té un rang de 0 a 1 (0 = molt objectiu, 1 = molt subjectiu)\n",
    "   \n",
    "   "
   ]
  },
  {
   "cell_type": "markdown",
   "metadata": {},
   "source": [
    "+ *També podem fer l'anàlisi per cada frase que composa el text*"
   ]
  },
  {
   "cell_type": "code",
   "execution_count": 36,
   "metadata": {},
   "outputs": [
    {
     "data": {
      "text/plain": [
       "[Sentence(\"The location was outstanding - overlooking Piccadilly and close to shops and transport.\"),\n",
       " Sentence(\"It doesn't get better!\"),\n",
       " Sentence(\"The room was spacious for central London and very comfortable.\")]"
      ]
     },
     "execution_count": 36,
     "metadata": {},
     "output_type": "execute_result"
    }
   ],
   "source": [
    "blob.sentences"
   ]
  },
  {
   "cell_type": "code",
   "execution_count": 38,
   "metadata": {},
   "outputs": [
    {
     "name": "stdout",
     "output_type": "stream",
     "text": [
      "Sentiment(polarity=0.5, subjectivity=0.875)\n",
      "Sentiment(polarity=0.625, subjectivity=0.5)\n",
      "Sentiment(polarity=0.26, subjectivity=0.625)\n"
     ]
    }
   ],
   "source": [
    "for sentence in blob.sentences:\n",
    "\n",
    "print(sentence.sentiment)"
   ]
  },
  {
   "cell_type": "code",
   "execution_count": null,
   "metadata": {},
   "outputs": [],
   "source": []
  }
 ],
 "metadata": {
  "kernelspec": {
   "display_name": "Python 3",
   "language": "python",
   "name": "python3"
  },
  "language_info": {
   "codemirror_mode": {
    "name": "ipython",
    "version": 3
   },
   "file_extension": ".py",
   "mimetype": "text/x-python",
   "name": "python",
   "nbconvert_exporter": "python",
   "pygments_lexer": "ipython3",
   "version": "3.8.5"
  }
 },
 "nbformat": 4,
 "nbformat_minor": 4
}
