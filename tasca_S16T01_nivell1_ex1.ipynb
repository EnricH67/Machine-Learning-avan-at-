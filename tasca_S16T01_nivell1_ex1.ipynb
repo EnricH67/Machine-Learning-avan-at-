{
 "cells": [
  {
   "cell_type": "markdown",
   "metadata": {},
   "source": [
    "# S16 T01: Pipelines, grid search i text mining\n",
    "\n",
    "## NIVELL 1\n",
    "\n",
    "### *Exercici 1*\n",
    "\n",
    "Agafa el conjunt de dades que vulguis i realitza un pipeline i un gridsearch aplicant l'algorisme de Random Forest\n",
    "\n"
   ]
  },
  {
   "cell_type": "code",
   "execution_count": 1,
   "metadata": {},
   "outputs": [],
   "source": [
    "import pandas as pd\n",
    "import numpy as np\n",
    "import matplotlib.pyplot as plt\n",
    "%matplotlib inline\n",
    "from pandas import DataFrame\n",
    "\n",
    "from sklearn.compose import ColumnTransformer \n",
    "from sklearn.compose import make_column_transformer\n",
    "from sklearn.impute import SimpleImputer\n",
    "import category_encoders as ce\n",
    "from sklearn.preprocessing import StandardScaler\n",
    "from sklearn.preprocessing import OneHotEncoder\n",
    "from sklearn.ensemble import RandomForestRegressor\n",
    "from sklearn.ensemble import RandomForestClassifier\n",
    "from sklearn.metrics import mean_squared_error\n",
    "from sklearn.pipeline import Pipeline\n",
    "from sklearn.model_selection import train_test_split\n",
    "from sklearn.model_selection import GridSearchCV"
   ]
  },
  {
   "cell_type": "markdown",
   "metadata": {},
   "source": [
    "+ *Importo el meu data set de tenis*"
   ]
  },
  {
   "cell_type": "code",
   "execution_count": 2,
   "metadata": {},
   "outputs": [
    {
     "data": {
      "text/html": [
       "<div>\n",
       "<style scoped>\n",
       "    .dataframe tbody tr th:only-of-type {\n",
       "        vertical-align: middle;\n",
       "    }\n",
       "\n",
       "    .dataframe tbody tr th {\n",
       "        vertical-align: top;\n",
       "    }\n",
       "\n",
       "    .dataframe thead th {\n",
       "        text-align: right;\n",
       "    }\n",
       "</style>\n",
       "<table border=\"1\" class=\"dataframe\">\n",
       "  <thead>\n",
       "    <tr style=\"text-align: right;\">\n",
       "      <th></th>\n",
       "      <th>match_id</th>\n",
       "      <th>round</th>\n",
       "      <th>date</th>\n",
       "      <th>avg_minutes_game</th>\n",
       "      <th>avg_seconds_point</th>\n",
       "      <th>avg_minutes_set</th>\n",
       "      <th>tournament</th>\n",
       "      <th>year</th>\n",
       "      <th>match_minutes</th>\n",
       "    </tr>\n",
       "  </thead>\n",
       "  <tbody>\n",
       "    <tr>\n",
       "      <th>0</th>\n",
       "      <td>m_2019_A_0</td>\n",
       "      <td>1st Round</td>\n",
       "      <td>2019-01-14</td>\n",
       "      <td>4.81</td>\n",
       "      <td>46.8</td>\n",
       "      <td>43.3</td>\n",
       "      <td>Australian Open</td>\n",
       "      <td>2019</td>\n",
       "      <td>173.0</td>\n",
       "    </tr>\n",
       "    <tr>\n",
       "      <th>1</th>\n",
       "      <td>m_2019_A_1</td>\n",
       "      <td>1st Round</td>\n",
       "      <td>2019-01-14</td>\n",
       "      <td>3.95</td>\n",
       "      <td>35.7</td>\n",
       "      <td>40.5</td>\n",
       "      <td>Australian Open</td>\n",
       "      <td>2019</td>\n",
       "      <td>162.0</td>\n",
       "    </tr>\n",
       "    <tr>\n",
       "      <th>2</th>\n",
       "      <td>m_2019_A_2</td>\n",
       "      <td>1st Round</td>\n",
       "      <td>2019-01-14</td>\n",
       "      <td>4.86</td>\n",
       "      <td>42.3</td>\n",
       "      <td>43.8</td>\n",
       "      <td>Australian Open</td>\n",
       "      <td>2019</td>\n",
       "      <td>175.0</td>\n",
       "    </tr>\n",
       "    <tr>\n",
       "      <th>3</th>\n",
       "      <td>m_2019_A_3</td>\n",
       "      <td>1st Round</td>\n",
       "      <td>2019-01-14</td>\n",
       "      <td>4.43</td>\n",
       "      <td>43.3</td>\n",
       "      <td>41.0</td>\n",
       "      <td>Australian Open</td>\n",
       "      <td>2019</td>\n",
       "      <td>164.0</td>\n",
       "    </tr>\n",
       "    <tr>\n",
       "      <th>4</th>\n",
       "      <td>m_2019_A_4</td>\n",
       "      <td>1st Round</td>\n",
       "      <td>2019-01-14</td>\n",
       "      <td>4.37</td>\n",
       "      <td>39.7</td>\n",
       "      <td>43.7</td>\n",
       "      <td>Australian Open</td>\n",
       "      <td>2019</td>\n",
       "      <td>131.0</td>\n",
       "    </tr>\n",
       "    <tr>\n",
       "      <th>...</th>\n",
       "      <td>...</td>\n",
       "      <td>...</td>\n",
       "      <td>...</td>\n",
       "      <td>...</td>\n",
       "      <td>...</td>\n",
       "      <td>...</td>\n",
       "      <td>...</td>\n",
       "      <td>...</td>\n",
       "      <td>...</td>\n",
       "    </tr>\n",
       "    <tr>\n",
       "      <th>10155</th>\n",
       "      <td>m_2000_W_122</td>\n",
       "      <td>Quarterfinals</td>\n",
       "      <td>2000-06-26</td>\n",
       "      <td>3.95</td>\n",
       "      <td>37.3</td>\n",
       "      <td>41.5</td>\n",
       "      <td>Wimbledon</td>\n",
       "      <td>2000</td>\n",
       "      <td>166.0</td>\n",
       "    </tr>\n",
       "    <tr>\n",
       "      <th>10156</th>\n",
       "      <td>m_2000_W_123</td>\n",
       "      <td>Quarterfinals</td>\n",
       "      <td>2000-06-26</td>\n",
       "      <td>4.26</td>\n",
       "      <td>39.0</td>\n",
       "      <td>48.3</td>\n",
       "      <td>Wimbledon</td>\n",
       "      <td>2000</td>\n",
       "      <td>145.0</td>\n",
       "    </tr>\n",
       "    <tr>\n",
       "      <th>10157</th>\n",
       "      <td>m_2000_W_124</td>\n",
       "      <td>Semifinals</td>\n",
       "      <td>2000-06-26</td>\n",
       "      <td>3.74</td>\n",
       "      <td>37.2</td>\n",
       "      <td>39.6</td>\n",
       "      <td>Wimbledon</td>\n",
       "      <td>2000</td>\n",
       "      <td>198.0</td>\n",
       "    </tr>\n",
       "    <tr>\n",
       "      <th>10158</th>\n",
       "      <td>m_2000_W_125</td>\n",
       "      <td>Semifinals</td>\n",
       "      <td>2000-06-26</td>\n",
       "      <td>3.30</td>\n",
       "      <td>34.7</td>\n",
       "      <td>33.0</td>\n",
       "      <td>Wimbledon</td>\n",
       "      <td>2000</td>\n",
       "      <td>99.0</td>\n",
       "    </tr>\n",
       "    <tr>\n",
       "      <th>10159</th>\n",
       "      <td>m_2000_W_126</td>\n",
       "      <td>The Final</td>\n",
       "      <td>2000-06-26</td>\n",
       "      <td>4.24</td>\n",
       "      <td>35.7</td>\n",
       "      <td>44.5</td>\n",
       "      <td>Wimbledon</td>\n",
       "      <td>2000</td>\n",
       "      <td>178.0</td>\n",
       "    </tr>\n",
       "  </tbody>\n",
       "</table>\n",
       "<p>10160 rows × 9 columns</p>\n",
       "</div>"
      ],
      "text/plain": [
       "           match_id          round        date  avg_minutes_game  \\\n",
       "0        m_2019_A_0      1st Round  2019-01-14              4.81   \n",
       "1        m_2019_A_1      1st Round  2019-01-14              3.95   \n",
       "2        m_2019_A_2      1st Round  2019-01-14              4.86   \n",
       "3        m_2019_A_3      1st Round  2019-01-14              4.43   \n",
       "4        m_2019_A_4      1st Round  2019-01-14              4.37   \n",
       "...             ...            ...         ...               ...   \n",
       "10155  m_2000_W_122  Quarterfinals  2000-06-26              3.95   \n",
       "10156  m_2000_W_123  Quarterfinals  2000-06-26              4.26   \n",
       "10157  m_2000_W_124     Semifinals  2000-06-26              3.74   \n",
       "10158  m_2000_W_125     Semifinals  2000-06-26              3.30   \n",
       "10159  m_2000_W_126      The Final  2000-06-26              4.24   \n",
       "\n",
       "       avg_seconds_point  avg_minutes_set       tournament  year  \\\n",
       "0                   46.8             43.3  Australian Open  2019   \n",
       "1                   35.7             40.5  Australian Open  2019   \n",
       "2                   42.3             43.8  Australian Open  2019   \n",
       "3                   43.3             41.0  Australian Open  2019   \n",
       "4                   39.7             43.7  Australian Open  2019   \n",
       "...                  ...              ...              ...   ...   \n",
       "10155               37.3             41.5        Wimbledon  2000   \n",
       "10156               39.0             48.3        Wimbledon  2000   \n",
       "10157               37.2             39.6        Wimbledon  2000   \n",
       "10158               34.7             33.0        Wimbledon  2000   \n",
       "10159               35.7             44.5        Wimbledon  2000   \n",
       "\n",
       "       match_minutes  \n",
       "0              173.0  \n",
       "1              162.0  \n",
       "2              175.0  \n",
       "3              164.0  \n",
       "4              131.0  \n",
       "...              ...  \n",
       "10155          166.0  \n",
       "10156          145.0  \n",
       "10157          198.0  \n",
       "10158           99.0  \n",
       "10159          178.0  \n",
       "\n",
       "[10160 rows x 9 columns]"
      ]
     },
     "execution_count": 2,
     "metadata": {},
     "output_type": "execute_result"
    }
   ],
   "source": [
    "tenis_df = pd.read_csv('Match.csv')\n",
    "tenis_df"
   ]
  },
  {
   "cell_type": "markdown",
   "metadata": {},
   "source": [
    "+ *Una ullada inicial al Data set per orientar-nos de null values i el type de cada feature*"
   ]
  },
  {
   "cell_type": "code",
   "execution_count": 3,
   "metadata": {},
   "outputs": [
    {
     "data": {
      "text/plain": [
       "match_id              0\n",
       "round                 0\n",
       "date                  0\n",
       "avg_minutes_game     46\n",
       "avg_seconds_point    45\n",
       "avg_minutes_set      82\n",
       "tournament            0\n",
       "year                  0\n",
       "match_minutes        43\n",
       "dtype: int64"
      ]
     },
     "execution_count": 3,
     "metadata": {},
     "output_type": "execute_result"
    }
   ],
   "source": [
    "tenis_df.isnull().sum()"
   ]
  },
  {
   "cell_type": "markdown",
   "metadata": {},
   "source": [
    "+ *Solucionem els null values amb la mean de cada feature on hi hem trobat null values*"
   ]
  },
  {
   "cell_type": "code",
   "execution_count": 4,
   "metadata": {},
   "outputs": [],
   "source": [
    "avg_minutes_game_mean = tenis_df['avg_minutes_game'].mean()\n",
    "tenis_df['avg_minutes_game'].fillna(avg_minutes_game_mean, inplace=True)"
   ]
  },
  {
   "cell_type": "code",
   "execution_count": 5,
   "metadata": {},
   "outputs": [],
   "source": [
    "avg_seconds_point_mean = tenis_df['avg_seconds_point'].mean()\n",
    "tenis_df['avg_seconds_point'].fillna(avg_seconds_point_mean, inplace=True)"
   ]
  },
  {
   "cell_type": "code",
   "execution_count": 6,
   "metadata": {},
   "outputs": [],
   "source": [
    "avg_minutes_set_mean = tenis_df['avg_minutes_set'].mean()\n",
    "tenis_df['avg_minutes_set'].fillna(avg_minutes_set_mean, inplace=True)"
   ]
  },
  {
   "cell_type": "code",
   "execution_count": 7,
   "metadata": {},
   "outputs": [],
   "source": [
    "match_minutes_mean = tenis_df['match_minutes'].mean()\n",
    "tenis_df['match_minutes'].fillna(match_minutes_mean, inplace=True)"
   ]
  },
  {
   "cell_type": "code",
   "execution_count": 8,
   "metadata": {},
   "outputs": [
    {
     "data": {
      "text/plain": [
       "match_id             0\n",
       "round                0\n",
       "date                 0\n",
       "avg_minutes_game     0\n",
       "avg_seconds_point    0\n",
       "avg_minutes_set      0\n",
       "tournament           0\n",
       "year                 0\n",
       "match_minutes        0\n",
       "dtype: int64"
      ]
     },
     "execution_count": 8,
     "metadata": {},
     "output_type": "execute_result"
    }
   ],
   "source": [
    "tenis_df.isnull().sum()"
   ]
  },
  {
   "cell_type": "code",
   "execution_count": 9,
   "metadata": {},
   "outputs": [],
   "source": [
    "# separate the independent and target variable \n",
    "X = tenis_df.drop('tournament', 1)\n",
    "y = tenis_df['tournament']"
   ]
  },
  {
   "cell_type": "code",
   "execution_count": 10,
   "metadata": {},
   "outputs": [
    {
     "data": {
      "text/plain": [
       "pandas.core.frame.DataFrame"
      ]
     },
     "execution_count": 10,
     "metadata": {},
     "output_type": "execute_result"
    }
   ],
   "source": [
    "type(X)"
   ]
  },
  {
   "cell_type": "code",
   "execution_count": 11,
   "metadata": {},
   "outputs": [
    {
     "data": {
      "text/plain": [
       "pandas.core.series.Series"
      ]
     },
     "execution_count": 11,
     "metadata": {},
     "output_type": "execute_result"
    }
   ],
   "source": [
    "type(y)"
   ]
  },
  {
   "cell_type": "markdown",
   "metadata": {},
   "source": [
    "+ *Faig una definició de variables per grups(nimèriques i categòriques) i dels transformers que vull passar pel\n",
    "   mètode \"ColumnTransformer()\"\n",
    "   \n",
    "   *Un cop definit lo anterior, puc fer el pipeline amb \"Pipeline()\" i els steps necessaris que marquen la sequència amb\n",
    "    que jo vull que passin les coses*"
   ]
  },
  {
   "cell_type": "code",
   "execution_count": 12,
   "metadata": {},
   "outputs": [],
   "source": [
    "numeric_features = ['avg_minutes_game', 'avg_seconds_point','avg_minutes_set', 'match_minutes']\n",
    "numeric_transformer =  StandardScaler()\n",
    "\n",
    "\n",
    "categorical_features = ['round']\n",
    "categorical_transformer = OneHotEncoder()\n",
    "\n",
    "preprocessor = ColumnTransformer(\n",
    "         transformers=[                    \n",
    "        ('num', numeric_transformer, numeric_features),\n",
    "        ('cat', categorical_transformer, categorical_features)])\n",
    "\n",
    "# Append classifier to preprocessing pipeline.\n",
    "# Now we have a full prediction pipeline.\n",
    "rf_pipeline = Pipeline(steps=[('preprocessor', preprocessor),\n",
    "                      ('classifier', RandomForestClassifier())])\n",
    "\n",
    "\n"
   ]
  },
  {
   "cell_type": "code",
   "execution_count": 13,
   "metadata": {},
   "outputs": [],
   "source": [
    "X_train, X_test, y_train, y_test = train_test_split(X, y, test_size=0.2, random_state=1)"
   ]
  },
  {
   "cell_type": "code",
   "execution_count": 14,
   "metadata": {},
   "outputs": [
    {
     "data": {
      "text/plain": [
       "Pipeline(steps=[('preprocessor',\n",
       "                 ColumnTransformer(transformers=[('num', StandardScaler(),\n",
       "                                                  ['avg_minutes_game',\n",
       "                                                   'avg_seconds_point',\n",
       "                                                   'avg_minutes_set',\n",
       "                                                   'match_minutes']),\n",
       "                                                 ('cat', OneHotEncoder(),\n",
       "                                                  ['round'])])),\n",
       "                ('classifier', RandomForestClassifier())])"
      ]
     },
     "execution_count": 14,
     "metadata": {},
     "output_type": "execute_result"
    }
   ],
   "source": [
    "rf_pipeline.fit(X_train, y_train)"
   ]
  },
  {
   "cell_type": "markdown",
   "metadata": {},
   "source": [
    "+ *I obtinc els scores per train set i test set*"
   ]
  },
  {
   "cell_type": "code",
   "execution_count": 15,
   "metadata": {},
   "outputs": [
    {
     "name": "stdout",
     "output_type": "stream",
     "text": [
      "model score: 0.973\n",
      "model score: 0.315\n"
     ]
    }
   ],
   "source": [
    "print(\"model score: %.3f\" % rf_pipeline.score(X_train, y_train))\n",
    "print(\"model score: %.3f\" % rf_pipeline.score(X_test, y_test))"
   ]
  },
  {
   "cell_type": "markdown",
   "metadata": {},
   "source": [
    "+ *Preparo el rang dels paràmetres que vull incloure en el param_grid*"
   ]
  },
  {
   "cell_type": "code",
   "execution_count": 16,
   "metadata": {},
   "outputs": [],
   "source": [
    "# Number if trees in random forest\n",
    "n_estimators = [10, 20]\n",
    "# Number of features to consider at every split\n",
    "max_features = ['auto', 'sqrt']\n",
    "# Maximum number of levels in tree\n",
    "max_depth = [2, 5]\n",
    "# Minimum number of samples required to split a node\n",
    "min_samples_split = [2, 5]\n",
    "\n"
   ]
  },
  {
   "cell_type": "code",
   "execution_count": 17,
   "metadata": {},
   "outputs": [],
   "source": [
    "param_grid = {'classifier__n_estimators' : n_estimators,\n",
    "              'classifier__max_features' : max_features,\n",
    "              'classifier__max_depth' : max_depth,\n",
    "               'classifier__min_samples_split' : min_samples_split,\n",
    "              }"
   ]
  },
  {
   "cell_type": "code",
   "execution_count": 18,
   "metadata": {},
   "outputs": [
    {
     "name": "stdout",
     "output_type": "stream",
     "text": [
      "{'classifier__n_estimators': [10, 20], 'classifier__max_features': ['auto', 'sqrt'], 'classifier__max_depth': [2, 5], 'classifier__min_samples_split': [2, 5]}\n"
     ]
    }
   ],
   "source": [
    "print(param_grid)"
   ]
  },
  {
   "cell_type": "markdown",
   "metadata": {},
   "source": [
    "+ *faig el GridSearch amb el pipeline, el param_grid definit i cross validation = 5*"
   ]
  },
  {
   "cell_type": "code",
   "execution_count": 19,
   "metadata": {},
   "outputs": [],
   "source": [
    "clf = GridSearchCV (estimator = rf_pipeline , param_grid = param_grid, cv = 5)"
   ]
  },
  {
   "cell_type": "markdown",
   "metadata": {},
   "source": [
    "+ *Entreno el train set amb el Gridsearch*"
   ]
  },
  {
   "cell_type": "code",
   "execution_count": 20,
   "metadata": {},
   "outputs": [
    {
     "data": {
      "text/plain": [
       "GridSearchCV(cv=5,\n",
       "             estimator=Pipeline(steps=[('preprocessor',\n",
       "                                        ColumnTransformer(transformers=[('num',\n",
       "                                                                         StandardScaler(),\n",
       "                                                                         ['avg_minutes_game',\n",
       "                                                                          'avg_seconds_point',\n",
       "                                                                          'avg_minutes_set',\n",
       "                                                                          'match_minutes']),\n",
       "                                                                        ('cat',\n",
       "                                                                         OneHotEncoder(),\n",
       "                                                                         ['round'])])),\n",
       "                                       ('classifier',\n",
       "                                        RandomForestClassifier())]),\n",
       "             param_grid={'classifier__max_depth': [2, 5],\n",
       "                         'classifier__max_features': ['auto', 'sqrt'],\n",
       "                         'classifier__min_samples_split': [2, 5],\n",
       "                         'classifier__n_estimators': [10, 20]})"
      ]
     },
     "execution_count": 20,
     "metadata": {},
     "output_type": "execute_result"
    }
   ],
   "source": [
    "clf.fit(X_train, y_train)"
   ]
  },
  {
   "cell_type": "markdown",
   "metadata": {},
   "source": [
    "+ *obtinc els \"best_param del GridSearch*"
   ]
  },
  {
   "cell_type": "code",
   "execution_count": 21,
   "metadata": {},
   "outputs": [
    {
     "name": "stdout",
     "output_type": "stream",
     "text": [
      "Best params:\n",
      "{'classifier__max_depth': 5, 'classifier__max_features': 'sqrt', 'classifier__min_samples_split': 2, 'classifier__n_estimators': 20}\n"
     ]
    }
   ],
   "source": [
    "clf.fit(X_train, y_train)\n",
    "\n",
    "print(f\"Best params:\")\n",
    "print(clf.best_params_)"
   ]
  },
  {
   "cell_type": "markdown",
   "metadata": {},
   "source": [
    "+ *I el millor score que em proporciona el Gridsearch*"
   ]
  },
  {
   "cell_type": "code",
   "execution_count": 22,
   "metadata": {},
   "outputs": [
    {
     "name": "stdout",
     "output_type": "stream",
     "text": [
      "Internal CV score: 0.353\n"
     ]
    }
   ],
   "source": [
    "print(f\"Internal CV score: {clf.best_score_:.3f}\")"
   ]
  },
  {
   "cell_type": "markdown",
   "metadata": {},
   "source": [
    "+ *Fem predicció sobre y_test*"
   ]
  },
  {
   "cell_type": "code",
   "execution_count": 23,
   "metadata": {},
   "outputs": [
    {
     "data": {
      "text/plain": [
       "array(['Wimbledon', 'Wimbledon', 'Wimbledon', ..., 'US Open', 'Wimbledon',\n",
       "       'Wimbledon'], dtype=object)"
      ]
     },
     "execution_count": 23,
     "metadata": {},
     "output_type": "execute_result"
    }
   ],
   "source": [
    "y_predict = clf.predict(X_test)\n",
    "y_predict"
   ]
  },
  {
   "cell_type": "code",
   "execution_count": 24,
   "metadata": {},
   "outputs": [
    {
     "name": "stdout",
     "output_type": "stream",
     "text": [
      "model score: 0.315\n"
     ]
    }
   ],
   "source": [
    "print(\"model score: %.3f\" % rf_pipeline.score(X_test, y_test))"
   ]
  },
  {
   "cell_type": "markdown",
   "metadata": {},
   "source": [
    "+ *Obtinc Accuracy i Classification Error*"
   ]
  },
  {
   "cell_type": "code",
   "execution_count": 37,
   "metadata": {},
   "outputs": [
    {
     "name": "stdout",
     "output_type": "stream",
     "text": [
      "0.3425196850393701\n"
     ]
    }
   ],
   "source": [
    "# Calculem l'Accuracy : sobre el total de y_test, en quin percentatge el model encerta el valors amb y_predict* \n",
    "from sklearn import metrics\n",
    "print(metrics.accuracy_score(y_test, y_predict))"
   ]
  },
  {
   "cell_type": "code",
   "execution_count": 38,
   "metadata": {},
   "outputs": [
    {
     "name": "stdout",
     "output_type": "stream",
     "text": [
      "Classification Error : 0.6574803149606299\n"
     ]
    }
   ],
   "source": [
    " # Classification Error : sobre el total de y_test, en quin percentatge el model NO encerta el valors amb y_pred_dtc\n",
    "print('Classification Error : {}'.format(1 - metrics.accuracy_score(y_test, y_predict)))"
   ]
  },
  {
   "cell_type": "markdown",
   "metadata": {},
   "source": [
    "+ *i la matriu de confussió que és per una variable target \"multiclass\" (4 possibles resultats)*"
   ]
  },
  {
   "cell_type": "code",
   "execution_count": 27,
   "metadata": {},
   "outputs": [
    {
     "name": "stdout",
     "output_type": "stream",
     "text": [
      "[[ 75 261  10 175]\n",
      " [ 66 321  10 120]\n",
      " [ 68 262  32 147]\n",
      " [ 63 118  36 268]]\n"
     ]
    }
   ],
   "source": [
    "# Genero la matriu de confussió*\n",
    "cnf = metrics.confusion_matrix(y_test, y_predict)\n",
    "print(cnf)"
   ]
  },
  {
   "cell_type": "code",
   "execution_count": 28,
   "metadata": {},
   "outputs": [
    {
     "data": {
      "text/plain": [
       "array(['Australian Open', 'French Open', 'US Open', 'Wimbledon'],\n",
       "      dtype=object)"
      ]
     },
     "execution_count": 28,
     "metadata": {},
     "output_type": "execute_result"
    }
   ],
   "source": [
    "y.unique()"
   ]
  },
  {
   "cell_type": "markdown",
   "metadata": {},
   "source": [
    "+ *La visualitzo*"
   ]
  },
  {
   "cell_type": "code",
   "execution_count": 29,
   "metadata": {},
   "outputs": [],
   "source": [
    "import seaborn as sns"
   ]
  },
  {
   "cell_type": "code",
   "execution_count": 33,
   "metadata": {},
   "outputs": [
    {
     "data": {
      "text/plain": [
       "Text(0.5, 257.44, 'Predicted label')"
      ]
     },
     "execution_count": 33,
     "metadata": {},
     "output_type": "execute_result"
    },
    {
     "data": {
      "image/png": "[encoded data removed]",
      "text/plain": [
       "<Figure size 432x288 with 2 Axes>"
      ]
     },
     "metadata": {
      "needs_background": "light"
     },
     "output_type": "display_data"
    }
   ],
   "source": [
    "class_names=['Australian Open', 'French Open', 'US Open', 'Wimbledon'] \n",
    "fig, ax = plt.subplots()\n",
    "tick_marks = np.arange(len(class_names))\n",
    "plt.xticks(tick_marks, class_names)\n",
    "plt.yticks(tick_marks, class_names)\n",
    "\n",
    "sns.heatmap(pd.DataFrame(cnf), annot=True, cmap=\"YlGnBu\" ,fmt='g')\n",
    "ax.xaxis.set_label_position(\"top\")\n",
    "plt.tight_layout()\n",
    "plt.title('Confusion matrix', y=1.1)\n",
    "plt.ylabel('Actual label')\n",
    "plt.xlabel('Predicted label')"
   ]
  },
  {
   "cell_type": "markdown",
   "metadata": {},
   "source": [
    "+ *Fem un classification report*"
   ]
  },
  {
   "cell_type": "code",
   "execution_count": 34,
   "metadata": {},
   "outputs": [
    {
     "name": "stdout",
     "output_type": "stream",
     "text": [
      "                 precision    recall  f1-score   support\n",
      "\n",
      "Australian Open       0.28      0.14      0.19       521\n",
      "    French Open       0.33      0.62      0.43       517\n",
      "        US Open       0.36      0.06      0.11       509\n",
      "      Wimbledon       0.38      0.55      0.45       485\n",
      "\n",
      "       accuracy                           0.34      2032\n",
      "      macro avg       0.34      0.35      0.29      2032\n",
      "   weighted avg       0.34      0.34      0.29      2032\n",
      "\n"
     ]
    }
   ],
   "source": [
    "print(metrics.classification_report(y_test, y_predict))"
   ]
  },
  {
   "cell_type": "markdown",
   "metadata": {},
   "source": [
    "+ *I podem finalment obtenir AUC*"
   ]
  },
  {
   "cell_type": "code",
   "execution_count": 35,
   "metadata": {},
   "outputs": [],
   "source": [
    "from sklearn.metrics import make_scorer\n",
    "from sklearn.metrics import roc_auc_score"
   ]
  },
  {
   "cell_type": "code",
   "execution_count": 36,
   "metadata": {},
   "outputs": [
    {
     "name": "stdout",
     "output_type": "stream",
     "text": [
      "AUC = 0.6127145552929921\n"
     ]
    }
   ],
   "source": [
    "y_predict_proba = clf.predict_proba(X_test)\n",
    "auc = metrics.roc_auc_score(y_test, y_predict_proba, multi_class = 'ovo')\n",
    "print('AUC = {}'.format(auc))       # Cal incloure \"multi_class = 'ovo'\" al no ser binaria la avriable objectiu"
   ]
  },
  {
   "cell_type": "code",
   "execution_count": null,
   "metadata": {},
   "outputs": [],
   "source": []
  }
 ],
 "metadata": {
  "kernelspec": {
   "display_name": "Python 3",
   "language": "python",
   "name": "python3"
  },
  "language_info": {
   "codemirror_mode": {
    "name": "ipython",
    "version": 3
   },
   "file_extension": ".py",
   "mimetype": "text/x-python",
   "name": "python",
   "nbconvert_exporter": "python",
   "pygments_lexer": "ipython3",
   "version": "3.8.5"
  }
 },
 "nbformat": 4,
 "nbformat_minor": 4
}
